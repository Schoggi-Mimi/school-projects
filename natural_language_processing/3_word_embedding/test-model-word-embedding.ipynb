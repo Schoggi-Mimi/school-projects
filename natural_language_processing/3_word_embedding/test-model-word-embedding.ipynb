{
 "cells": [
  {
   "cell_type": "code",
   "execution_count": null,
   "metadata": {},
   "outputs": [],
   "source": [
    "!pip install -qr \"../requirements.txt\""
   ]
  },
  {
   "cell_type": "code",
   "execution_count": null,
   "metadata": {},
   "outputs": [],
   "source": [
    "from datasets import load_dataset\n",
    "\n",
    "import torch\n",
    "import torch.nn as nn\n",
    "import torch.nn.functional as F\n",
    "\n",
    "import word_embedding_classifier as model\n",
    "import word_embedding_processor as processor\n",
    "import word_embedding_evaluation as evaluation\n",
    "\n",
    "import glob\n",
    "import pandas as pd"
   ]
  },
  {
   "cell_type": "code",
   "execution_count": null,
   "metadata": {},
   "outputs": [],
   "source": [
    "arc_dataset = load_dataset('ai2_arc', 'ARC-Easy')\n",
    "\n",
    "device = 'cuda' if torch.cuda.is_available() else 'cpu'\n",
    "\n",
    "criterion = nn.CrossEntropyLoss() "
   ]
  },
  {
   "cell_type": "code",
   "execution_count": null,
   "metadata": {},
   "outputs": [],
   "source": [
    "def test_model(hidden_dim, num_layers, activation_function, network_file, inputs, labels):\n",
    "    net = model.Word_embedding_classifier(100, hidden_dim, 4, num_layers, activation_function).to(device)\n",
    "    net.load_state_dict(network_file)\n",
    "    net.eval()\n",
    "\n",
    "    labels = torch.asarray(labels).to(device).type(torch.float32)\n",
    "    inputs = inputs.to(device).type(torch.float32)\n",
    "\n",
    "    with torch.no_grad():\n",
    "        outputs = net(inputs[:,0], inputs[:,1], inputs[:,2], inputs[:,3], inputs[:,4])\n",
    "        loss = criterion(outputs, labels)\n",
    "        accuracy_score = evaluation.calculate_accuracy_from_predicitions(outputs, labels)\n",
    "\n",
    "    return loss, accuracy_score"
   ]
  },
  {
   "cell_type": "code",
   "execution_count": null,
   "metadata": {},
   "outputs": [],
   "source": [
    "X_test_with_stopwords, y_test_with_stopwords = processor.process_dataset(arc_dataset['test'],remove_stop_words=False)\n",
    "X_test_without_stopwords, y_test_without_stopwords = processor.process_dataset(arc_dataset['test'],remove_stop_words=True)"
   ]
  },
  {
   "cell_type": "code",
   "execution_count": null,
   "metadata": {},
   "outputs": [],
   "source": [
    "trial_number = 66\n",
    "path = f'models/3-Run/'\n",
    "filename = 'fast_text_classifier_trial_'\n",
    "\n",
    "df = pd.read_csv(f'{path}{filename}{trial_number}.csv')\n",
    "\n",
    "row = df.iloc[0]\n",
    "\n",
    "trial_number = row['Trial number']\n",
    "hidden_dim = row['hidden_dim']\n",
    "num_layers = row['num_layers']\n",
    "dataset = row['dataset']\n",
    "activation_function = row['activation_function']\n",
    "word_embedding = row['word_embedding']\n",
    "\n",
    "if dataset == 'with_stopwords':\n",
    "    X_test, y_test = X_test_with_stopwords, y_test_with_stopwords\n",
    "elif dataset == 'without_stopwords':\n",
    "    X_test_trial, y_test_trial = X_test_without_stopwords, y_test_without_stopwords\n",
    "\n",
    "network = torch.load(f'{path}{filename}{trial_number}.pth', map_location=device)\n",
    "\n",
    "loss, accuracy_score = test_model(hidden_dim, num_layers, getattr(F, activation_function), network, X_test_trial, y_test_trial)\n",
    "    \n",
    "print(row)\n",
    "print(f'Train accuracy of best trial: {accuracy_score}')\n",
    "\n",
    "print(f'Train loss of best trial: {loss}')"
   ]
  }
 ],
 "metadata": {
  "kernelspec": {
   "display_name": "nlp",
   "language": "python",
   "name": "python3"
  },
  "language_info": {
   "codemirror_mode": {
    "name": "ipython",
    "version": 3
   },
   "file_extension": ".py",
   "mimetype": "text/x-python",
   "name": "python",
   "nbconvert_exporter": "python",
   "pygments_lexer": "ipython3",
   "version": "3.11.5"
  }
 },
 "nbformat": 4,
 "nbformat_minor": 2
}
