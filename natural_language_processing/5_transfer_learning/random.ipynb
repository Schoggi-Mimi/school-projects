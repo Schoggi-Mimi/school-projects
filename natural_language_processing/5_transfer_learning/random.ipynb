{
 "cells": [
  {
   "cell_type": "code",
   "execution_count": null,
   "metadata": {},
   "outputs": [],
   "source": [
    "!pip install -q pandas scikit-learn matplotlib datasets transformers wandb"
   ]
  },
  {
   "cell_type": "code",
   "execution_count": null,
   "metadata": {},
   "outputs": [],
   "source": [
    "TRACK = True"
   ]
  },
  {
   "cell_type": "code",
   "execution_count": null,
   "metadata": {},
   "outputs": [],
   "source": [
    "import wandb\n",
    "if TRACK:\n",
    "    wandb.login()"
   ]
  },
  {
   "cell_type": "code",
   "execution_count": null,
   "metadata": {},
   "outputs": [],
   "source": [
    "from datasets import load_dataset\n",
    "\n",
    "train = load_dataset(\"ai2_arc\", 'ARC-Easy', split='train').to_pandas()\n",
    "test = load_dataset(\"ai2_arc\", 'ARC-Easy', split='test').to_pandas()\n",
    "dev = load_dataset(\"ai2_arc\", 'ARC-Easy', split='validation').to_pandas()"
   ]
  },
  {
   "cell_type": "code",
   "execution_count": null,
   "metadata": {},
   "outputs": [],
   "source": [
    "import torch\n",
    "from transformers import AutoTokenizer, BertConfig, BertForMultipleChoice\n",
    "import random\n",
    "import os\n",
    "import numpy as np\n",
    "\n",
    "SEED = 2023\n",
    "def seed_everything(seed=2023):\n",
    "    random.seed(seed)\n",
    "    os.environ[\"PYTHONHASHSEED\"] = str(seed)\n",
    "    np.random.seed(seed)\n",
    "    torch.manual_seed(seed)\n",
    "    torch.cuda.manual_seed(seed)\n",
    "seed_everything(SEED)\n",
    "\n",
    "device = 'cuda' if torch.cuda.is_available() else 'cpu'\n",
    "print(f'Model is in device: {device}')\n",
    "\n",
    "# config (BertConfig) — Model configuration class with all the parameters of the model. Initializing with a config file does not load the weights associated with the model, only the configuration.\n",
    "configuration = BertConfig()\n",
    "model = BertForMultipleChoice(configuration).to(device)\n",
    "\n",
    "#model_name = 'bert-base-uncased'\n",
    "model_name= 'dmis-lab/biobert-base-cased-v1.1-squad'\n",
    "tokenizer = AutoTokenizer.from_pretrained(model_name)"
   ]
  },
  {
   "cell_type": "code",
   "execution_count": null,
   "metadata": {},
   "outputs": [],
   "source": [
    "from multiple_choice_processor import MultipleChoiceProcessor\n",
    "\n",
    "BATCH_SIZE = 16\n",
    "\n",
    "processor = MultipleChoiceProcessor(tokenizer, train, dev, test)\n",
    "train_loader, val_loader, test_loader = processor.create_datasets(batch_size=BATCH_SIZE, train_batch_size=BATCH_SIZE)"
   ]
  },
  {
   "cell_type": "code",
   "execution_count": null,
   "metadata": {},
   "outputs": [],
   "source": [
    "from train_eval import TrainingPipeline\n",
    "from torch.optim import AdamW\n",
    "from torch.optim.lr_scheduler import CyclicLR\n",
    "\n",
    "EPOCHS = 6\n",
    "LR = 0.0001\n",
    "\n",
    "optimizer = AdamW(model.parameters(), lr=LR, weight_decay=0.01)\n",
    "scheduler = CyclicLR(optimizer, base_lr=LR/10, max_lr=LR, cycle_momentum=False, mode='triangular2')\n",
    "\n",
    "training_pipeline = TrainingPipeline(model, device, train_loader, val_loader, optimizer=optimizer, scheduler=scheduler, track=TRACK, num_epochs=EPOCHS, lr=LR, model_checkpoint=True)\n",
    "\n",
    "train_loss_list, train_accuracy_list, val_loss_list, val_accuracy_list = training_pipeline.train()"
   ]
  },
  {
   "cell_type": "code",
   "execution_count": null,
   "metadata": {},
   "outputs": [],
   "source": [
    "test_loss, test_accuracy = training_pipeline.evaluate()"
   ]
  },
  {
   "cell_type": "code",
   "execution_count": null,
   "metadata": {},
   "outputs": [],
   "source": []
  }
 ],
 "metadata": {
  "kernelspec": {
   "display_name": "Python 3 (ipykernel)",
   "language": "python",
   "name": "python3"
  },
  "language_info": {
   "codemirror_mode": {
    "name": "ipython",
    "version": 3
   },
   "file_extension": ".py",
   "mimetype": "text/x-python",
   "name": "python",
   "nbconvert_exporter": "python",
   "pygments_lexer": "ipython3",
   "version": "3.11.5"
  }
 },
 "nbformat": 4,
 "nbformat_minor": 4
}
