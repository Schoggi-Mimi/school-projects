{
 "cells": [
  {
   "cell_type": "code",
   "execution_count": null,
   "metadata": {},
   "outputs": [],
   "source": [
    "!pip install -q pandas scikit-learn matplotlib datasets transformers wandb seaborn captum ipywidgets tqdm"
   ]
  },
  {
   "cell_type": "code",
   "execution_count": null,
   "metadata": {},
   "outputs": [],
   "source": [
    "from datasets import load_dataset\n",
    "\n",
    "train = load_dataset(\"ai2_arc\", 'ARC-Easy', split='train').to_pandas()\n",
    "test = load_dataset(\"ai2_arc\", 'ARC-Easy', split='test').to_pandas()\n",
    "dev = load_dataset(\"ai2_arc\", 'ARC-Easy', split='validation').to_pandas()\n",
    "\n",
    "#mmlu\n",
    "high_school_test = load_dataset(\"tasksource/mmlu\", 'high_school_biology', split='test').to_pandas()\n",
    "college_test = load_dataset(\"tasksource/mmlu\", 'college_biology', split='test').to_pandas()\n",
    "philosophy_test = load_dataset(\"tasksource/mmlu\", 'philosophy', split='test').to_pandas()\n",
    "\n",
    "high_school_test.rename(columns={'answer': 'answerKey'}, inplace=True)\n",
    "college_test.rename(columns={'answer': 'answerKey'}, inplace=True)\n",
    "philosophy_test.rename(columns={'answer': 'answerKey'}, inplace=True)"
   ]
  },
  {
   "cell_type": "code",
   "execution_count": null,
   "metadata": {},
   "outputs": [],
   "source": [
    "import torch\n",
    "from transformers import AutoTokenizer, AutoModelForMultipleChoice\n",
    "import random\n",
    "import os\n",
    "import numpy as np\n",
    "import logging\n",
    "logging.getLogger(\"transformers.modeling_utils\").setLevel(logging.ERROR)\n",
    "\n",
    "SEED = 2023\n",
    "def seed_everything(seed=2023):\n",
    "    random.seed(seed)\n",
    "    os.environ[\"PYTHONHASHSEED\"] = str(seed)\n",
    "    np.random.seed(seed)\n",
    "    torch.manual_seed(seed)\n",
    "    torch.cuda.manual_seed(seed)\n",
    "seed_everything(SEED)\n",
    "\n",
    "device = 'cuda' if torch.cuda.is_available() else 'cpu'\n",
    "print(f'Model is in device: {device}')\n",
    "\n",
    "model_name1 = 'bert-base-uncased'\n",
    "model_name2 = 'dmis-lab/biobert-base-cased-v1.1-squad'\n",
    "model_bert = AutoModelForMultipleChoice.from_pretrained(model_name1).to(device)\n",
    "model_biobert = AutoModelForMultipleChoice.from_pretrained(model_name2).to(device)\n",
    "\n",
    "tokenizer1 = AutoTokenizer.from_pretrained(model_name1)\n",
    "tokenizer2 = AutoTokenizer.from_pretrained(model_name2)\n",
    "\n",
    "model1_weights_path = 'model_state_dicts/bert_pretrained.pth'\n",
    "model2_weights_path = 'model_state_dicts/biobert_pretrained.pth'"
   ]
  },
  {
   "cell_type": "markdown",
   "metadata": {},
   "source": [
    "**54%** bert51.pth, biobert52.pth"
   ]
  },
  {
   "cell_type": "code",
   "execution_count": null,
   "metadata": {},
   "outputs": [],
   "source": [
    "from multiple_choice_processor import MultipleChoiceProcessor\n",
    "\n",
    "BATCH_SIZE = 16\n",
    "\n",
    "processor1 = MultipleChoiceProcessor(tokenizer1, train, dev, test, set='easy')\n",
    "processor2 = MultipleChoiceProcessor(tokenizer2, train, dev, test, set='easy')\n",
    "_, val_loader1, test_loader1 = processor1.create_datasets(batch_size=BATCH_SIZE, train_batch_size=None)\n",
    "_, val_loader2, test_loader2 = processor2.create_datasets(batch_size=BATCH_SIZE, train_batch_size=None)\n",
    "\n",
    "processor3 = MultipleChoiceProcessor(tokenizer1, high_school_test, college_test, philosophy_test)\n",
    "processor4 = MultipleChoiceProcessor(tokenizer2, high_school_test, college_test, philosophy_test)\n",
    "high_school_loader1, college_loader1, philosophy_loader1 = processor3.create_datasets(batch_size=BATCH_SIZE, train_batch_size=None)\n",
    "high_school_loader2, college_loader2, philosophy_loader2 = processor4.create_datasets(batch_size=BATCH_SIZE, train_batch_size=None)"
   ]
  },
  {
   "cell_type": "markdown",
   "metadata": {},
   "source": [
    "## (Easy set) validation"
   ]
  },
  {
   "cell_type": "code",
   "execution_count": null,
   "metadata": {},
   "outputs": [],
   "source": [
    "from ensemble import EnsemblePipeline\n",
    "\n",
    "ensemble_pipeline = EnsemblePipeline(model_bert, model_biobert, device, val_loader1, val_loader2)\n",
    "\n",
    "ensemble_pipeline.load_model_weights(model1_weights_path, model2_weights_path)\n",
    "\n",
    "ensemble_pipeline.validate() "
   ]
  },
  {
   "cell_type": "markdown",
   "metadata": {},
   "source": [
    "## (Easy set) test"
   ]
  },
  {
   "cell_type": "code",
   "execution_count": null,
   "metadata": {},
   "outputs": [],
   "source": [
    "from ensemble import EnsemblePipeline\n",
    "\n",
    "ensemble_pipeline = EnsemblePipeline(model_bert, model_biobert, device, test_loader1, test_loader2)\n",
    "\n",
    "ensemble_pipeline.load_model_weights(model1_weights_path, model2_weights_path)\n",
    "\n",
    "ensemble_pipeline.validate() "
   ]
  },
  {
   "cell_type": "markdown",
   "metadata": {},
   "source": [
    "## High school biology"
   ]
  },
  {
   "cell_type": "code",
   "execution_count": null,
   "metadata": {},
   "outputs": [],
   "source": [
    "from ensemble import EnsemblePipeline\n",
    "\n",
    "ensemble_pipeline = EnsemblePipeline(model_bert, model_biobert, device, high_school_loader1, high_school_loader2)\n",
    "\n",
    "ensemble_pipeline.load_model_weights(model1_weights_path, model2_weights_path)\n",
    "\n",
    "ensemble_pipeline.validate()"
   ]
  },
  {
   "cell_type": "markdown",
   "metadata": {},
   "source": [
    "## College biology"
   ]
  },
  {
   "cell_type": "code",
   "execution_count": null,
   "metadata": {},
   "outputs": [],
   "source": [
    "from ensemble import EnsemblePipeline\n",
    "\n",
    "ensemble_pipeline = EnsemblePipeline(model_bert, model_biobert, device, college_loader1, college_loader2)\n",
    "\n",
    "ensemble_pipeline.load_model_weights(model1_weights_path, model2_weights_path)\n",
    "\n",
    "ensemble_pipeline.validate()"
   ]
  },
  {
   "cell_type": "markdown",
   "metadata": {},
   "source": [
    "## Philosophy"
   ]
  },
  {
   "cell_type": "code",
   "execution_count": null,
   "metadata": {},
   "outputs": [],
   "source": [
    "from ensemble import EnsemblePipeline\n",
    "\n",
    "ensemble_pipeline = EnsemblePipeline(model_bert, model_biobert, device, philosophy_loader1, philosophy_loader2)\n",
    "\n",
    "ensemble_pipeline.load_model_weights(model1_weights_path, model2_weights_path)\n",
    "\n",
    "ensemble_pipeline.validate()"
   ]
  },
  {
   "cell_type": "code",
   "execution_count": null,
   "metadata": {},
   "outputs": [],
   "source": []
  }
 ],
 "metadata": {
  "kernelspec": {
   "display_name": "Python 3 (ipykernel)",
   "language": "python",
   "name": "python3"
  },
  "language_info": {
   "codemirror_mode": {
    "name": "ipython",
    "version": 3
   },
   "file_extension": ".py",
   "mimetype": "text/x-python",
   "name": "python",
   "nbconvert_exporter": "python",
   "pygments_lexer": "ipython3",
   "version": "3.11.5"
  }
 },
 "nbformat": 4,
 "nbformat_minor": 4
}
